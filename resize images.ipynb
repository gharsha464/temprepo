{
 "cells": [
  {
   "cell_type": "code",
   "execution_count": 7,
   "id": "22fc3ef4",
   "metadata": {},
   "outputs": [],
   "source": [
    "import PIL\n",
    "import os\n",
    "import os.path\n",
    "from PIL import Image\n",
    "#change the path to rezise images from different paths\n",
    "f= r'C:\\Users\\MGIT\\Desktop\\cat vs dog\\dataset_catdog\\test\\cat'\n",
    "for file in os.listdir(f):\n",
    "    f_img = f+\"/\"+file\n",
    "    img = Image.open(f_img)\n",
    "    img = img.resize((224,224))\n",
    "    img.save(f_img)"
   ]
  }
 ],
 "metadata": {
  "kernelspec": {
   "display_name": "Python 3 (ipykernel)",
   "language": "python",
   "name": "python3"
  },
  "language_info": {
   "codemirror_mode": {
    "name": "ipython",
    "version": 3
   },
   "file_extension": ".py",
   "mimetype": "text/x-python",
   "name": "python",
   "nbconvert_exporter": "python",
   "pygments_lexer": "ipython3",
   "version": "3.11.4"
  }
 },
 "nbformat": 4,
 "nbformat_minor": 5
}
