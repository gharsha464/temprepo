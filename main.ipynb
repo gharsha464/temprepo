{
 "cells": [
  {
   "cell_type": "code",
   "execution_count": null,
   "id": "72b6bed6",
   "metadata": {},
   "outputs": [],
   "source": [
    "import os\n",
    "import numpy as np\n",
    "import tensorflow as tf\n",
    "import matplotlib.pyplot as plt\n",
    "from tensorflow.keras.models import Sequential\n",
    "from tensorflow.keras.layers import Dense, Dropout, Flatten,Conv2D,MaxPool2D\n",
    "from tensorflow.keras.optimizers import Adam\n"
   ]
  },
  {
   "cell_type": "code",
   "execution_count": 21,
   "id": "78776e67",
   "metadata": {},
   "outputs": [],
   "source": [
    "train_size = 90\n",
    "test_size = 10\n",
    "\n",
    "\n",
    "\n",
    "image_size = 224\n",
    "batch_size = 5\n",
    "train_data_size = 180\n",
    "test_data_size = 20\n",
    "train = tf.keras.preprocessing.image.ImageDataGenerator(\n",
    "    rescale=1./255,rotation_range=90,shear_range=0.2,zoom_range=0.2,horizontal_flip=True)\n",
    "test = tf.keras.preprocessing.image.ImageDataGenerator(\n",
    "    rescale=1./255,rotation_range=90,shear_range=0.2,zoom_range=0.2,horizontal_flip=True)\n"
   ]
  },
  {
   "cell_type": "code",
   "execution_count": 54,
   "id": "d0271bca",
   "metadata": {},
   "outputs": [
    {
     "name": "stdout",
     "output_type": "stream",
     "text": [
      "Found 180 images belonging to 2 classes.\n",
      "Found 20 images belonging to 2 classes.\n"
     ]
    }
   ],
   "source": [
    "train_set = train.flow_from_directory(r'C:\\Users\\MGIT\\Desktop\\cat vs dog\\dataset_catdog\\train',\n",
    "                                      target_size=(image_size,image_size),\n",
    "                                      batch_size=batch_size,\n",
    "                                      class_mode='binary'\n",
    "                                     )\n",
    "test_set = test.flow_from_directory(r'C:\\Users\\MGIT\\Desktop\\cat vs dog\\dataset_catdog\\test',\n",
    "                                      target_size=(image_size,image_size),\n",
    "                                    batch_size=batch_size,\n",
    "                                      class_mode='binary'\n",
    "                                     )"
   ]
  },
  {
   "cell_type": "code",
   "execution_count": 55,
   "id": "53a92f2f",
   "metadata": {},
   "outputs": [],
   "source": [
    "model = tf.keras.models.Sequential([\n",
    "    Conv2D(16,(5,5),activation='relu',input_shape = (224,224,3)),\n",
    "    MaxPool2D(2,2),\n",
    "    \n",
    "    Conv2D(32,(5,5),activation='relu'),\n",
    "    MaxPool2D(2,2),\n",
    "    \n",
    "    Flatten(),\n",
    "    Dense(50,activation='relu'),\n",
    "    Dense(1,activation='sigmoid')\n",
    "])"
   ]
  },
  {
   "cell_type": "code",
   "execution_count": 56,
   "id": "e30401a0",
   "metadata": {},
   "outputs": [
    {
     "name": "stdout",
     "output_type": "stream",
     "text": [
      "Model: \"sequential_2\"\n",
      "_________________________________________________________________\n",
      " Layer (type)                Output Shape              Param #   \n",
      "=================================================================\n",
      " conv2d_4 (Conv2D)           (None, 220, 220, 16)      1216      \n",
      "                                                                 \n",
      " max_pooling2d_4 (MaxPoolin  (None, 110, 110, 16)      0         \n",
      " g2D)                                                            \n",
      "                                                                 \n",
      " conv2d_5 (Conv2D)           (None, 106, 106, 32)      12832     \n",
      "                                                                 \n",
      " max_pooling2d_5 (MaxPoolin  (None, 53, 53, 32)        0         \n",
      " g2D)                                                            \n",
      "                                                                 \n",
      " flatten_2 (Flatten)         (None, 89888)             0         \n",
      "                                                                 \n",
      " dense_4 (Dense)             (None, 50)                4494450   \n",
      "                                                                 \n",
      " dense_5 (Dense)             (None, 1)                 51        \n",
      "                                                                 \n",
      "=================================================================\n",
      "Total params: 4508549 (17.20 MB)\n",
      "Trainable params: 4508549 (17.20 MB)\n",
      "Non-trainable params: 0 (0.00 Byte)\n",
      "_________________________________________________________________\n"
     ]
    }
   ],
   "source": [
    "model.summary()"
   ]
  },
  {
   "cell_type": "code",
   "execution_count": 57,
   "id": "4277bfa3",
   "metadata": {},
   "outputs": [],
   "source": [
    "model.compile(loss='binary_crossentropy', optimizer = 'Adam',metrics=['accuracy'])"
   ]
  },
  {
   "cell_type": "code",
   "execution_count": 58,
   "id": "8ab2de4b",
   "metadata": {},
   "outputs": [
    {
     "name": "stdout",
     "output_type": "stream",
     "text": [
      "Epoch 1/10\n",
      "36/36 [==============================] - 9s 228ms/step - loss: 1.3871 - accuracy: 0.4556 - val_loss: 0.6932 - val_accuracy: 0.5000\n",
      "Epoch 2/10\n",
      "36/36 [==============================] - 8s 220ms/step - loss: 0.6931 - accuracy: 0.5167 - val_loss: 0.6938 - val_accuracy: 0.4500\n",
      "Epoch 3/10\n",
      "36/36 [==============================] - 8s 225ms/step - loss: 0.6947 - accuracy: 0.4944 - val_loss: 0.6934 - val_accuracy: 0.4500\n",
      "Epoch 4/10\n",
      "36/36 [==============================] - 8s 228ms/step - loss: 0.6930 - accuracy: 0.5167 - val_loss: 0.6931 - val_accuracy: 0.5500\n",
      "Epoch 5/10\n",
      "36/36 [==============================] - 8s 221ms/step - loss: 0.6926 - accuracy: 0.5444 - val_loss: 0.6953 - val_accuracy: 0.3500\n",
      "Epoch 6/10\n",
      "36/36 [==============================] - 8s 219ms/step - loss: 0.6930 - accuracy: 0.5056 - val_loss: 0.6931 - val_accuracy: 0.5000\n",
      "Epoch 7/10\n",
      "36/36 [==============================] - 8s 222ms/step - loss: 0.6970 - accuracy: 0.4833 - val_loss: 0.6929 - val_accuracy: 0.4500\n",
      "Epoch 8/10\n",
      "36/36 [==============================] - 8s 219ms/step - loss: 0.6932 - accuracy: 0.5222 - val_loss: 0.6946 - val_accuracy: 0.4500\n",
      "Epoch 9/10\n",
      "36/36 [==============================] - 8s 226ms/step - loss: 0.6930 - accuracy: 0.5000 - val_loss: 0.6905 - val_accuracy: 0.5500\n",
      "Epoch 10/10\n",
      "36/36 [==============================] - 8s 217ms/step - loss: 0.6928 - accuracy: 0.5000 - val_loss: 0.6929 - val_accuracy: 0.4500\n"
     ]
    }
   ],
   "source": [
    "history = model.fit(train_set,steps_per_epoch=train_data_size//batch_size,epochs=10,\n",
    "                   validation_data=test_set)"
   ]
  },
  {
   "cell_type": "code",
   "execution_count": null,
   "id": "721a407e",
   "metadata": {},
   "outputs": [],
   "source": []
  }
 ],
 "metadata": {
  "kernelspec": {
   "display_name": "Python 3 (ipykernel)",
   "language": "python",
   "name": "python3"
  },
  "language_info": {
   "codemirror_mode": {
    "name": "ipython",
    "version": 3
   },
   "file_extension": ".py",
   "mimetype": "text/x-python",
   "name": "python",
   "nbconvert_exporter": "python",
   "pygments_lexer": "ipython3",
   "version": "3.11.4"
  }
 },
 "nbformat": 4,
 "nbformat_minor": 5
}
